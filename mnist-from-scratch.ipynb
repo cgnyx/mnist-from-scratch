{
 "cells": [
  {
   "cell_type": "code",
   "execution_count": null,
   "metadata": {
    "_cell_guid": "b1076dfc-b9ad-4769-8c92-a6c4dae69d19",
    "_uuid": "8f2839f25d086af736a60e9eeb907d3b93b6e0e5",
    "execution": {
     "iopub.execute_input": "2025-05-24T13:46:24.533723Z",
     "iopub.status.busy": "2025-05-24T13:46:24.533472Z",
     "iopub.status.idle": "2025-05-24T13:46:26.976842Z",
     "shell.execute_reply": "2025-05-24T13:46:26.975375Z",
     "shell.execute_reply.started": "2025-05-24T13:46:24.533692Z"
    },
    "trusted": true
   },
   "outputs": [],
   "source": [
    "import numpy as np \n",
    "import pandas as pd\n",
    "from matplotlib import pyplot as plt "
   ]
  },
  {
   "cell_type": "code",
   "execution_count": null,
   "metadata": {
    "execution": {
     "iopub.execute_input": "2025-05-24T13:47:53.446188Z",
     "iopub.status.busy": "2025-05-24T13:47:53.445828Z",
     "iopub.status.idle": "2025-05-24T13:47:57.190688Z",
     "shell.execute_reply": "2025-05-24T13:47:57.189576Z",
     "shell.execute_reply.started": "2025-05-24T13:47:53.446163Z"
    },
    "trusted": true
   },
   "outputs": [],
   "source": [
    "data = pd.read_csv('train.csv')"
   ]
  },
  {
   "cell_type": "code",
   "execution_count": null,
   "metadata": {
    "execution": {
     "iopub.execute_input": "2025-05-24T13:48:07.915311Z",
     "iopub.status.busy": "2025-05-24T13:48:07.914961Z",
     "iopub.status.idle": "2025-05-24T13:48:07.950654Z",
     "shell.execute_reply": "2025-05-24T13:48:07.949656Z",
     "shell.execute_reply.started": "2025-05-24T13:48:07.915283Z"
    },
    "trusted": true
   },
   "outputs": [],
   "source": [
    "data.head()"
   ]
  },
  {
   "cell_type": "code",
   "execution_count": null,
   "metadata": {
    "execution": {
     "iopub.execute_input": "2025-05-24T13:54:14.331012Z",
     "iopub.status.busy": "2025-05-24T13:54:14.329903Z",
     "iopub.status.idle": "2025-05-24T13:54:15.276335Z",
     "shell.execute_reply": "2025-05-24T13:54:15.275335Z",
     "shell.execute_reply.started": "2025-05-24T13:54:14.330973Z"
    },
    "trusted": true
   },
   "outputs": [],
   "source": [
    "data = np.array(data)\n",
    "m, n = data.shape\n",
    "np.random.shuffle(data)\n",
    "\n",
    "data_dev = data[0:1000].T # Transpose the dev set\n",
    "Y_dev = data_dev[0]\n",
    "X_dev = data_dev[1:n] # X_dev will have 784 rows (features) and 1000 columns (samples)\n",
    "X_dev = X_dev / 255.0 # Normalize pixel values\n",
    "\n",
    "data_train  = data[1000:m].T # Transpose the training set\n",
    "Y_train = data_train[0]\n",
    "X_train = data_train[1:n] # X_train will have 784 rows and (m-1000) columns\n",
    "X_train = X_train / 255.0 # Normalize pixel values\n"
   ]
  },
  {
   "cell_type": "code",
   "execution_count": null,
   "metadata": {
    "trusted": true
   },
   "outputs": [],
   "source": [
    "def init_params():\n",
    "    input_size_L1 = 784\n",
    "    hidden_size_L1 = 10\n",
    "    output_size_L2 = 10\n",
    "\n",
    "    # He Initialization for W1: sqrt(2 / input_size_L1)\n",
    "    # This helps maintain variance of activations when using ReLU\n",
    "    W1 = np.random.randn(hidden_size_L1, input_size_L1) * np.sqrt(2. / input_size_L1)\n",
    "    B1 = np.zeros((hidden_size_L1, 1))\n",
    "    # He Initialization for W2: sqrt(2 / hidden_size_L1)\n",
    "    # Note: For the output layer with Softmax, sometimes Xavier is preferred,\n",
    "    # but He often works well too.\n",
    "    W2 = np.random.randn(output_size_L2, hidden_size_L1) * np.sqrt(2. / hidden_size_L1)\n",
    "    B2 = np.zeros((output_size_L2, 1))\n",
    "\n",
    "    return W1, B1, W2, B2\n",
    "\n",
    "def ReLU(Z):\n",
    "    return np.maximum(0, Z)\n",
    "\n",
    "def softMax(Z):\n",
    "    exp_Z = np.exp(Z - np.max(Z, axis=0, keepdims=True)) \n",
    "    return exp_Z / np.sum(exp_Z, axis=0, keepdims=True)\n",
    "    \n",
    "def forward_prop(W1, B1, W2, B2, X, keep_prob=1.0, training=True): # Added keep_prob and training\n",
    "    # Performs forward propagation with dropout.\n",
    "    Z1 = W1.dot(X) + B1\n",
    "    A1 = ReLU(Z1)\n",
    "\n",
    "    D1 = None # Initialize D1\n",
    "    if training and keep_prob < 1.0:\n",
    "        # Create a dropout mask: randomly set some neurons to 0\n",
    "        D1 = np.random.rand(*A1.shape) < keep_prob\n",
    "        A1 = A1 * D1\n",
    "        # Scale the activations by 1/keep_prob to maintain the expected sum of activations\n",
    "        A1 = A1 / keep_prob\n",
    "\n",
    "    Z2 = W2.dot(A1) + B2\n",
    "    A2 = softMax(Z2)\n",
    "\n",
    "    return Z1, A1, Z2, A2, D1 # Return D1 for backprop\n",
    "\n",
    "def one_hot(Y):\n",
    "    Y = np.array(Y) # Create a one-hot encoded matrix with shape (number of classes, number of samples)\n",
    "    one_hot_Y = np.zeros((Y.max() + 1, Y.size)) # Set the appropriate elements to 1\n",
    "    one_hot_Y[Y, np.arange(Y.size)] = 1\n",
    "    return one_hot_Y\n",
    "\n",
    "def deriv_ReLU(Z):\n",
    "    return Z > 0\n",
    "\n",
    "def back_prop(Z1, A1, Z2, A2, W1, W2, X, Y, D1, *, keep_prob=1.0, lambda_reg=0.01): \n",
    "\n",
    "    # Performs backpropagation with dropout and L2 regularization.\n",
    "    m = X.shape[1]\n",
    "    one_hot_Y = one_hot(Y)\n",
    "\n",
    "    dZ2 = A2 - one_hot_Y\n",
    "    dW2 = 1 / m * dZ2.dot(A1.T) + (lambda_reg / m) * W2 # L2 regularization\n",
    "    db2 = 1 / m * np.sum(dZ2, axis=1, keepdims=True)\n",
    "\n",
    "    dZ1 = W2.T.dot(dZ2) * deriv_ReLU(Z1)\n",
    "    if D1 is not None and keep_prob < 1.0:\n",
    "        dZ1 = dZ1 * D1\n",
    "        dZ1 = dZ1 / keep_prob\n",
    "\n",
    "    dW1 = 1 / m * dZ1.dot(X.T) + (lambda_reg / m) * W1 # L2 regularization\n",
    "    db1 = 1 / m * np.sum(dZ1, axis=1, keepdims=True)\n",
    "\n",
    "    return dW1, db1, dW2, db2\n",
    "\n",
    "\n",
    "def update_params_adam(W1, B1, W2, B2, dW1, db1, dW2, db2, alpha, t, v_dW1, v_db1, v_dW2, v_db2, s_dW1, s_db1, s_dW2, s_db2, beta1=0.9, beta2=0.999, epsilon=1e-8):\n",
    "    #Updates the parameters using the Adam optimization algorithm.\n",
    "    \n",
    "    # Update biased first moment estimates\n",
    "    v_dW1 = beta1 * v_dW1 + (1 - beta1) * dW1\n",
    "    v_db1 = beta1 * v_db1 + (1 - beta1) * db1\n",
    "    v_dW2 = beta1 * v_dW2 + (1 - beta1) * dW2\n",
    "    v_db2 = beta1 * v_db2 + (1 - beta1) * db2\n",
    "\n",
    "    # Update biased second moment estimates\n",
    "    s_dW1 = beta2 * s_dW1 + (1 - beta2) * (dW1**2)\n",
    "    s_db1 = beta2 * s_db1 + (1 - beta2) * (db1**2)\n",
    "    s_dW2 = beta2 * s_dW2 + (1 - beta2) * (dW2**2)\n",
    "    s_db2 = beta2 * s_db2 + (1 - beta2) * (db2**2)\n",
    "\n",
    "    # Correct bias for first moment estimates\n",
    "    v_dW1_corrected = v_dW1 / (1 - beta1**t)\n",
    "    v_db1_corrected = v_db1 / (1 - beta1**t)\n",
    "    v_dW2_corrected = v_dW2 / (1 - beta1**t)\n",
    "    v_db2_corrected = v_db2 / (1 - beta1**t)\n",
    "\n",
    "    # Correct bias for second moment estimates\n",
    "    s_dW1_corrected = s_dW1 / (1 - beta2**t)\n",
    "    s_db1_corrected = s_db1 / (1 - beta2**t)\n",
    "    s_dW2_corrected = s_dW2 / (1 - beta2**t)\n",
    "    s_db2_corrected = s_db2 / (1 - beta2**t)\n",
    "\n",
    "    # Update parameters\n",
    "    W1 = W1 - alpha * v_dW1_corrected / (np.sqrt(s_dW1_corrected) + epsilon)\n",
    "    B1 = B1 - alpha * v_db1_corrected / (np.sqrt(s_db1_corrected) + epsilon)\n",
    "    W2 = W2 - alpha * v_dW2_corrected / (np.sqrt(s_dW2_corrected) + epsilon)\n",
    "    B2 = B2 - alpha * v_db2_corrected / (np.sqrt(s_db2_corrected) + epsilon)\n",
    "\n",
    "    return W1, B1, W2, B2, v_dW1, v_db1, v_dW2, v_db2, s_dW1, s_db1, s_dW2, s_db2\n"
   ]
  },
  {
   "cell_type": "code",
   "execution_count": null,
   "metadata": {
    "trusted": true
   },
   "outputs": [],
   "source": [
    "def get_predictions(A2):\n",
    "    predictions = np.argmax(A2, axis=0)\n",
    "    return predictions\n",
    "\n",
    "def get_accuracy(predictions, Y):\n",
    "    Y = np.array(Y)\n",
    "    # print(predictions, Y)\n",
    "    return np.sum(predictions == Y) / Y.size\n",
    "    \n",
    "\n",
    "def gradient(X, Y, iterations, alpha, lambda_reg=0.01, keep_prob=0.8):\n",
    "    W1, B1, W2, B2 = init_params()\n",
    "\n",
    "    # Initialize Adam moment estimates\n",
    "    v_dW1, v_db1 = np.zeros_like(W1), np.zeros_like(B1)\n",
    "    v_dW2, v_db2 = np.zeros_like(W2), np.zeros_like(B2)\n",
    "    s_dW1, s_db1 = np.zeros_like(W1), np.zeros_like(B1)\n",
    "    s_dW2, s_db2 = np.zeros_like(W2), np.zeros_like(B2)\n",
    "\n",
    "    for i in range(1, iterations + 1):\n",
    "        # Pass keep_prob and training=True to forward_prop\n",
    "        Z1, A1, Z2, A2, D1 = forward_prop(W1, B1, W2, B2, X, keep_prob=keep_prob, training=True)\n",
    "        # Pass W1, D1, keep_prob, and lambda_reg to back_prop (W1 added here!)\n",
    "        dW1, db1, dW2, db2 = back_prop(Z1, A1, Z2, A2, W1, W2, X, Y, D1, keep_prob=keep_prob, lambda_reg=lambda_reg)\n",
    "\n",
    "        W1, B1, W2, B2, v_dW1, v_db1, v_dW2, v_db2, s_dW1, s_db1, s_dW2, s_db2 = \\\n",
    "            update_params_adam(W1, B1, W2, B2, dW1, db1, dW2, db2, alpha, i, v_dW1, v_db1, v_dW2, v_db2, s_dW1, s_db1, s_dW2, s_db2)\n",
    "\n",
    "        if i % 500 == 0:\n",
    "            print(f\"Iteration: {i}\")\n",
    "            predictions = get_predictions(A2)\n",
    "            accuracy = get_accuracy(predictions, Y)\n",
    "            print(f\"Accuracy: {accuracy:.4f}\")\n",
    "\n",
    "    return W1, B1, W2, B2 "
   ]
  },
  {
   "cell_type": "code",
   "execution_count": null,
   "metadata": {},
   "outputs": [],
   "source": [
    "W1, B1, W2, B2 = gradient(X_train, Y_train, 2000, 0.01)"
   ]
  },
  {
   "cell_type": "code",
   "execution_count": null,
   "metadata": {},
   "outputs": [],
   "source": [
    "def make_predictions (X, W1, b1, W2, b2):\n",
    "    _, _, _, A2, _ = forward_prop(W1, b1, W2, b2, X, keep_prob=1.0, training=False)\n",
    "    predictions = get_predictions (A2)\n",
    "    return predictions\n",
    "\n",
    "def test_prediction (index, W1, b1, W2, b2):\n",
    "    current_image = X_train[:, index, None]\n",
    "    prediction = make_predictions (X_train[:, index, None], W1, b1, W2, b2)\n",
    "    label = Y_train[index]\n",
    "    print(\"Prediction:\", prediction)\n",
    "    print(\"Label: \", label)\n",
    "    current_image = current_image.reshape((28, 28)) * 255\n",
    "    plt.gray()\n",
    "    plt.imshow(current_image, interpolation='nearest')\n",
    "    plt.show()"
   ]
  },
  {
   "cell_type": "code",
   "execution_count": null,
   "metadata": {},
   "outputs": [],
   "source": [
    "dev_predictions = make_predictions(X_dev, W1, B1, W2, B2)\n",
    "get_accuracy(dev_predictions, Y_dev)"
   ]
  },
  {
   "cell_type": "code",
   "execution_count": null,
   "metadata": {},
   "outputs": [],
   "source": [
    "test_prediction(70, W1, B1, W2, B2)  # Test with the image in the training set"
   ]
  }
 ],
 "metadata": {
  "kaggle": {
   "accelerator": "none",
   "dataSources": [
    {
     "databundleVersionId": 861823,
     "sourceId": 3004,
     "sourceType": "competition"
    }
   ],
   "dockerImageVersionId": 31040,
   "isGpuEnabled": false,
   "isInternetEnabled": false,
   "language": "python",
   "sourceType": "notebook"
  },
  "kernelspec": {
   "display_name": "Python 3",
   "language": "python",
   "name": "python3"
  },
  "language_info": {
   "codemirror_mode": {
    "name": "ipython",
    "version": 3
   },
   "file_extension": ".py",
   "mimetype": "text/x-python",
   "name": "python",
   "nbconvert_exporter": "python",
   "pygments_lexer": "ipython3",
   "version": "3.11.0"
  }
 },
 "nbformat": 4,
 "nbformat_minor": 4
}
